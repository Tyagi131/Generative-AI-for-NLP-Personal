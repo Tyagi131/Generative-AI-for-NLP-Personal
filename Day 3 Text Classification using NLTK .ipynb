{
 "cells": [
  {
   "cell_type": "markdown",
   "id": "801f545e",
   "metadata": {},
   "source": [
    "## Text classification is a common task in natural language processing (NLP) that involves categorizing text into predefined classes. \n",
    "This case study demonstrates the process of text classification using two powerful NLP libraries, NLTK and spaCy, for preprocessing, and scikit-learn for model building and evaluation. We will use the 20 Newsgroups dataset, a classic dataset for text classification, focusing on four categories: 'alt.atheism', 'soc.religion.christian', 'comp.graphics', and 'sci.med'.\n",
    "\n",
    "## Objective\n",
    "- To build a text classification model that can accurately categorize newsgroup posts into their respective categories using different text preprocessing techniques."
   ]
  },
  {
   "cell_type": "code",
   "execution_count": 3,
   "id": "0dff9dbe",
   "metadata": {},
   "outputs": [
    {
     "name": "stderr",
     "output_type": "stream",
     "text": [
      "[nltk_data] Downloading package punkt to\n",
      "[nltk_data]     C:\\Users\\suyashi144893\\AppData\\Roaming\\nltk_data...\n",
      "[nltk_data]   Package punkt is already up-to-date!\n",
      "[nltk_data] Downloading package stopwords to\n",
      "[nltk_data]     C:\\Users\\suyashi144893\\AppData\\Roaming\\nltk_data...\n",
      "[nltk_data]   Package stopwords is already up-to-date!\n"
     ]
    }
   ],
   "source": [
    "## Import Libraries and Data\n",
    "# Import necessary libraries\n",
    "import nltk\n",
    "from nltk.corpus import stopwords\n",
    "from nltk.tokenize import word_tokenize\n",
    "from sklearn.datasets import fetch_20newsgroups\n",
    "from sklearn.feature_extraction.text import TfidfVectorizer\n",
    "from sklearn.naive_bayes import MultinomialNB\n",
    "from sklearn.pipeline import Pipeline\n",
    "from sklearn.base import BaseEstimator, TransformerMixin\n",
    "from sklearn import metrics\n",
    "import string\n",
    "import matplotlib.pyplot as plt\n",
    "import seaborn as sns\n",
    "\n",
    "# Download necessary NLTK data\n",
    "nltk.download('punkt')\n",
    "nltk.download('stopwords')\n",
    "\n",
    "# Load dataset\n",
    "categories = ['alt.atheism', 'soc.religion.christian', 'comp.graphics', 'sci.med']\n",
    "newsgroups_train = fetch_20newsgroups(subset='train', categories=categories)\n",
    "newsgroups_test = fetch_20newsgroups(subset='test', categories=categories)\n"
   ]
  },
  {
   "cell_type": "markdown",
   "id": "13e6ecd4",
   "metadata": {},
   "source": [
    "#Text Preprocessing with NLTK\n",
    "## We define a custom transformer class using NLTK to preprocess the text data."
   ]
  },
  {
   "cell_type": "code",
   "execution_count": 4,
   "id": "592e9707",
   "metadata": {},
   "outputs": [],
   "source": [
    "class NLTKPreprocessor(BaseEstimator, TransformerMixin):\n",
    "    def __init__(self):\n",
    "        self.stop_words = set(stopwords.words('english'))\n",
    "        self.punct_table = str.maketrans('', '', string.punctuation)\n",
    "\n",
    "    def preprocess(self, text):\n",
    "        tokens = word_tokenize(text)\n",
    "        tokens = [word.lower() for word in tokens]\n",
    "        tokens = [word.translate(self.punct_table) for word in tokens]\n",
    "        tokens = [word for word in tokens if word.isalpha()]\n",
    "        tokens = [word for word in tokens if word not in self.stop_words]\n",
    "        return ' '.join(tokens)\n",
    "\n",
    "    def fit(self, X, y=None):\n",
    "        return self\n",
    "\n",
    "    def transform(self, X):\n",
    "        return [self.preprocess(text) for text in X]\n"
   ]
  },
  {
   "cell_type": "markdown",
   "id": "1eba6c32",
   "metadata": {},
   "source": [
    "# Train and Evaluate Model with NLTK\n",
    "We create a pipeline that includes the NLTK preprocessor, TfidfVectorizer, and MultinomialNB classifier. We train and evaluate the model."
   ]
  },
  {
   "cell_type": "code",
   "execution_count": 5,
   "id": "02fa3a73",
   "metadata": {},
   "outputs": [
    {
     "name": "stdout",
     "output_type": "stream",
     "text": [
      "Accuracy (NLTK): 0.89\n",
      "                        precision    recall  f1-score   support\n",
      "\n",
      "           alt.atheism       0.99      0.67      0.80       319\n",
      "         comp.graphics       0.96      0.95      0.96       389\n",
      "               sci.med       0.97      0.90      0.93       396\n",
      "soc.religion.christian       0.73      0.98      0.84       398\n",
      "\n",
      "              accuracy                           0.89      1502\n",
      "             macro avg       0.91      0.88      0.88      1502\n",
      "          weighted avg       0.91      0.89      0.89      1502\n",
      "\n"
     ]
    },
    {
     "data": {
      "image/png": "[encoded data removed]",
      "text/plain": [
       "<Figure size 720x504 with 2 Axes>"
      ]
     },
     "metadata": {
      "needs_background": "light"
     },
     "output_type": "display_data"
    }
   ],
   "source": [
    "# Create a pipeline\n",
    "model_nltk = Pipeline([\n",
    "    ('preprocessor', NLTKPreprocessor()),\n",
    "    ('vectorizer', TfidfVectorizer()),\n",
    "    ('classifier', MultinomialNB())\n",
    "])\n",
    "\n",
    "# Train the classifier\n",
    "model_nltk.fit(newsgroups_train.data, newsgroups_train.target)\n",
    "\n",
    "# Predict the test data\n",
    "predicted_nltk = model_nltk.predict(newsgroups_test.data)\n",
    "\n",
    "# Evaluate the classifier\n",
    "accuracy_nltk = metrics.accuracy_score(newsgroups_test.target, predicted_nltk)\n",
    "print(f'Accuracy (NLTK): {accuracy_nltk:.2f}')\n",
    "print(metrics.classification_report(newsgroups_test.target, predicted_nltk, target_names=newsgroups_train.target_names))\n",
    "\n",
    "# Confusion matrix\n",
    "conf_matrix_nltk = metrics.confusion_matrix(newsgroups_test.target, predicted_nltk)\n",
    "plt.figure(figsize=(10, 7))\n",
    "sns.heatmap(conf_matrix_nltk, annot=True, fmt='d', cmap='Blues', xticklabels=newsgroups_train.target_names, yticklabels=newsgroups_train.target_names)\n",
    "plt.xlabel('Predicted')\n",
    "plt.ylabel('Actual')\n",
    "plt.title('Confusion Matrix (NLTK)')\n",
    "plt.show()\n"
   ]
  },
  {
   "cell_type": "markdown",
   "id": "942bc2e5",
   "metadata": {},
   "source": [
    "## Model Performance on New Samples\n",
    "To test the models on new provided samples, we use the trained models to predict the category of new texts."
   ]
  },
  {
   "cell_type": "code",
   "execution_count": 7,
   "id": "8e2003e7",
   "metadata": {},
   "outputs": [
    {
     "name": "stdout",
     "output_type": "stream",
     "text": [
      "NLTK Model Predictions for new samples:\n",
      "Text: The CPU performance of the new graphics card is remarkable.\n",
      "Predicted Category: comp.graphics\n",
      "\n",
      "Text: Is there a God? Atheism argues against the existence of a deity.\n",
      "Predicted Category: alt.atheism\n",
      "\n",
      "Text: Christianity is based on the teachings of Jesus Christ.\n",
      "Predicted Category: soc.religion.christian\n",
      "\n",
      "Text: Medical science has made great strides in the treatment of cancer.\n",
      "Predicted Category: sci.med\n",
      "\n"
     ]
    }
   ],
   "source": [
    "# New sample texts\n",
    "new_samples = [\n",
    "    \"The CPU performance of the new graphics card is remarkable.\",\n",
    "    \"Is there a God? Atheism argues against the existence of a deity.\",\n",
    "    \"Christianity is based on the teachings of Jesus Christ.\",\n",
    "    \"Medical science has made great strides in the treatment of cancer.\"\n",
    "]\n",
    "\n",
    "# Predict using the NLTK-based model\n",
    "predicted_nltk_samples = model_nltk.predict(new_samples)\n",
    "print(\"NLTK Model Predictions for new samples:\")\n",
    "for text, category in zip(new_samples, predicted_nltk_samples):\n",
    "    print(f\"Text: {text}\\nPredicted Category: {newsgroups_train.target_names[category]}\\n\")\n"
   ]
  }
 ],
 "metadata": {
  "kernelspec": {
   "display_name": "Python 3 (ipykernel)",
   "language": "python",
   "name": "python3"
  },
  "language_info": {
   "codemirror_mode": {
    "name": "ipython",
    "version": 3
   },
   "file_extension": ".py",
   "mimetype": "text/x-python",
   "name": "python",
   "nbconvert_exporter": "python",
   "pygments_lexer": "ipython3",
   "version": "3.9.12"
  }
 },
 "nbformat": 4,
 "nbformat_minor": 5
}
