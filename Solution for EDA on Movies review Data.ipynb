{
 "cells": [
  {
   "cell_type": "code",
   "execution_count": 1,
   "id": "f5943fcf",
   "metadata": {},
   "outputs": [],
   "source": [
    "import pandas as pd\n",
    "import numpy as np\n",
    "import matplotlib.pyplot as plt\n",
    "import seaborn as sns\n",
    "from sklearn.model_selection import train_test_split\n",
    "from sklearn.feature_extraction.text import CountVectorizer\n",
    "from sklearn.linear_model import LogisticRegression\n",
    "from sklearn.metrics import accuracy_score, classification_report\n",
    "# Load the movie review data\n",
    "#movie_reviews = pd.read_csv(\"movie_reviews.csv\")\n",
    "movies_review = pd.read_csv(\"https://raw.githubusercontent.com/suyashi29/Generative-AI-for-NLP/main/movie_reviews.csv\")"
   ]
  },
  {
   "cell_type": "code",
   "execution_count": 4,
   "id": "bba31505",
   "metadata": {},
   "outputs": [
    {
     "data": {
      "text/html": [
       "<div>\n",
       "<style scoped>\n",
       "    .dataframe tbody tr th:only-of-type {\n",
       "        vertical-align: middle;\n",
       "    }\n",
       "\n",
       "    .dataframe tbody tr th {\n",
       "        vertical-align: top;\n",
       "    }\n",
       "\n",
       "    .dataframe thead th {\n",
       "        text-align: right;\n",
       "    }\n",
       "</style>\n",
       "<table border=\"1\" class=\"dataframe\">\n",
       "  <thead>\n",
       "    <tr style=\"text-align: right;\">\n",
       "      <th></th>\n",
       "      <th>Movie</th>\n",
       "      <th>Review</th>\n",
       "      <th>Sentiment</th>\n",
       "    </tr>\n",
       "  </thead>\n",
       "  <tbody>\n",
       "    <tr>\n",
       "      <th>0</th>\n",
       "      <td>Pulp Fiction</td>\n",
       "      <td>The special effects were incredible.</td>\n",
       "      <td>0</td>\n",
       "    </tr>\n",
       "    <tr>\n",
       "      <th>1</th>\n",
       "      <td>The Dark Knight</td>\n",
       "      <td>The film lacked originality.</td>\n",
       "      <td>1</td>\n",
       "    </tr>\n",
       "    <tr>\n",
       "      <th>2</th>\n",
       "      <td>Forrest Gump</td>\n",
       "      <td>The screenplay was poorly written.</td>\n",
       "      <td>1</td>\n",
       "    </tr>\n",
       "    <tr>\n",
       "      <th>3</th>\n",
       "      <td>Fight Club</td>\n",
       "      <td>Predictable plot.</td>\n",
       "      <td>0</td>\n",
       "    </tr>\n",
       "    <tr>\n",
       "      <th>4</th>\n",
       "      <td>The Dark Knight</td>\n",
       "      <td>Disappointing ending.</td>\n",
       "      <td>1</td>\n",
       "    </tr>\n",
       "    <tr>\n",
       "      <th>...</th>\n",
       "      <td>...</td>\n",
       "      <td>...</td>\n",
       "      <td>...</td>\n",
       "    </tr>\n",
       "    <tr>\n",
       "      <th>3995</th>\n",
       "      <td>The Dark Knight</td>\n",
       "      <td>The screenplay was poorly written.</td>\n",
       "      <td>0</td>\n",
       "    </tr>\n",
       "    <tr>\n",
       "      <th>3996</th>\n",
       "      <td>Goodfellas</td>\n",
       "      <td>I didn't like the plot twist.</td>\n",
       "      <td>0</td>\n",
       "    </tr>\n",
       "    <tr>\n",
       "      <th>3997</th>\n",
       "      <td>The Shawshank Redemption</td>\n",
       "      <td>The screenplay was poorly written.</td>\n",
       "      <td>1</td>\n",
       "    </tr>\n",
       "    <tr>\n",
       "      <th>3998</th>\n",
       "      <td>The Matrix</td>\n",
       "      <td>The screenplay was poorly written.</td>\n",
       "      <td>0</td>\n",
       "    </tr>\n",
       "    <tr>\n",
       "      <th>3999</th>\n",
       "      <td>Pulp Fiction</td>\n",
       "      <td>I found the movie boring and uninteresting.</td>\n",
       "      <td>0</td>\n",
       "    </tr>\n",
       "  </tbody>\n",
       "</table>\n",
       "<p>4000 rows × 3 columns</p>\n",
       "</div>"
      ],
      "text/plain": [
       "                         Movie                                       Review  \\\n",
       "0                 Pulp Fiction         The special effects were incredible.   \n",
       "1              The Dark Knight                 The film lacked originality.   \n",
       "2                 Forrest Gump           The screenplay was poorly written.   \n",
       "3                   Fight Club                            Predictable plot.   \n",
       "4              The Dark Knight                        Disappointing ending.   \n",
       "...                        ...                                          ...   \n",
       "3995           The Dark Knight           The screenplay was poorly written.   \n",
       "3996                Goodfellas                I didn't like the plot twist.   \n",
       "3997  The Shawshank Redemption           The screenplay was poorly written.   \n",
       "3998                The Matrix           The screenplay was poorly written.   \n",
       "3999              Pulp Fiction  I found the movie boring and uninteresting.   \n",
       "\n",
       "      Sentiment  \n",
       "0             0  \n",
       "1             1  \n",
       "2             1  \n",
       "3             0  \n",
       "4             1  \n",
       "...         ...  \n",
       "3995          0  \n",
       "3996          0  \n",
       "3997          1  \n",
       "3998          0  \n",
       "3999          0  \n",
       "\n",
       "[4000 rows x 3 columns]"
      ]
     },
     "execution_count": 4,
     "metadata": {},
     "output_type": "execute_result"
    }
   ],
   "source": [
    "movies_review"
   ]
  },
  {
   "cell_type": "code",
   "execution_count": 6,
   "id": "63b7591b",
   "metadata": {},
   "outputs": [
    {
     "name": "stdout",
     "output_type": "stream",
     "text": [
      "Summary Statistics:\n",
      "         Sentiment\n",
      "count  4000.000000\n",
      "mean      0.510000\n",
      "std       0.499962\n",
      "min       0.000000\n",
      "25%       0.000000\n",
      "50%       1.000000\n",
      "75%       1.000000\n",
      "max       1.000000\n"
     ]
    }
   ],
   "source": [
    "# EDA\n",
    "print(\"Summary Statistics:\")\n",
    "print(movies_review.describe())"
   ]
  },
  {
   "cell_type": "code",
   "execution_count": 8,
   "id": "774d4fd0",
   "metadata": {},
   "outputs": [
    {
     "name": "stdout",
     "output_type": "stream",
     "text": [
      "             Movie                               Review\n",
      "count         4000                                 4000\n",
      "unique          10                                   20\n",
      "top     Goodfellas  The movie was absolutely fantastic!\n",
      "freq           435                                  224\n"
     ]
    }
   ],
   "source": [
    "print(movies_review.describe(include=\"object\"))"
   ]
  },
  {
   "cell_type": "code",
   "execution_count": 9,
   "id": "2ac84525",
   "metadata": {},
   "outputs": [
    {
     "data": {
      "text/plain": [
       "Movie        0\n",
       "Review       0\n",
       "Sentiment    0\n",
       "dtype: int64"
      ]
     },
     "execution_count": 9,
     "metadata": {},
     "output_type": "execute_result"
    }
   ],
   "source": [
    "movies_review.isnull().sum()"
   ]
  },
  {
   "cell_type": "code",
   "execution_count": 10,
   "id": "da7690c3",
   "metadata": {},
   "outputs": [
    {
     "name": "stderr",
     "output_type": "stream",
     "text": [
      "[nltk_data] Downloading package punkt to\n",
      "[nltk_data]     C:\\Users\\suyashi144893\\AppData\\Roaming\\nltk_data...\n",
      "[nltk_data]   Package punkt is already up-to-date!\n",
      "[nltk_data] Downloading package stopwords to\n",
      "[nltk_data]     C:\\Users\\suyashi144893\\AppData\\Roaming\\nltk_data...\n",
      "[nltk_data]   Package stopwords is already up-to-date!\n"
     ]
    },
    {
     "data": {
      "text/plain": [
       "True"
      ]
     },
     "execution_count": 10,
     "metadata": {},
     "output_type": "execute_result"
    }
   ],
   "source": [
    "import nltk\n",
    "from nltk.tokenize import word_tokenize\n",
    "from nltk.corpus import stopwords\n",
    "\n",
    "# Download NLTK resources if not already downloaded\n",
    "nltk.download('punkt')\n",
    "nltk.download('stopwords')"
   ]
  },
  {
   "cell_type": "code",
   "execution_count": 11,
   "id": "6f337441",
   "metadata": {},
   "outputs": [
    {
     "data": {
      "image/png": "[encoded data removed]",
      "text/plain": [
       "<Figure size 432x288 with 1 Axes>"
      ]
     },
     "metadata": {
      "needs_background": "light"
     },
     "output_type": "display_data"
    }
   ],
   "source": [
    "# Distribution of sentiments\n",
    "plt.figure(figsize=(6, 4))\n",
    "sentiment_counts = movies_review['Sentiment'].value_counts()\n",
    "sentiment_counts.plot(kind='bar', color=['skyblue', 'salmon'])\n",
    "plt.title('Distribution of Sentiments')\n",
    "plt.xlabel('Sentiment')\n",
    "plt.ylabel('Count')\n",
    "plt.xticks(range(len(sentiment_counts)), ['Negative', 'Positive'], rotation=0)\n",
    "plt.show()\n",
    "\n",
    "# Filter out empty reviews\n",
    "#movies_review = movies_review.dropna(subset=['Review'])\n"
   ]
  },
  {
   "cell_type": "markdown",
   "id": "f4300689",
   "metadata": {},
   "source": [
    "[Good,Bad, Poor, Good, Bad, Fine]\n",
    "\n",
    "Good-2\n",
    "Bad-2\n",
    "poor-1\n",
    "Fine-1\n"
   ]
  },
  {
   "cell_type": "code",
   "execution_count": 14,
   "id": "11464d34",
   "metadata": {},
   "outputs": [
    {
     "name": "stdout",
     "output_type": "stream",
     "text": [
      "{'absolutely': 224, 'acting': 188, 'amazing': 210, 'best': 224, 'boring': 213, 'captivating': 198, 'cast': 198, 'cinematography': 210, 'couldn': 181, 'didn': 219, 'direction': 211, 'disappointing': 190, 'edge': 207, 'effects': 196, 'ending': 190, 'fantastic': 224, 'film': 387, 'great': 198, 'heartwarming': 185, 'highly': 185, 'incredible': 196, 'kept': 207, 'lacked': 202, 'laughing': 181, 'like': 219, 'mediocre': 188, 'movie': 1036, 'movies': 224, 'originality': 202, 'outstanding': 169, 'performances': 198, 'plot': 438, 'poorly': 194, 'predictable': 219, 'recommend': 185, 'ruined': 211, 'screenplay': 194, 'seat': 207, 'seen': 224, 'soundtrack': 169, 'special': 196, 'stop': 181, 'storyline': 198, 'terrible': 211, 'touching': 185, 'twist': 219, 'uninteresting': 213, 've': 224, 'watching': 187, 'worth': 187, 'written': 194}\n"
     ]
    },
    {
     "data": {
      "image/png": "[encoded data removed]",
      "text/plain": [
       "<Figure size 720x432 with 1 Axes>"
      ]
     },
     "metadata": {
      "needs_background": "light"
     },
     "output_type": "display_data"
    }
   ],
   "source": [
    "# Visualize the most frequent words in the reviews\n",
    "count_vectorizer = CountVectorizer(max_features=1000, stop_words='english')\n",
    "X = count_vectorizer.fit_transform(movies_review['Review'])\n",
    "words = count_vectorizer.get_feature_names_out()\n",
    "word_frequencies = X.sum(axis=0).A1\n",
    "word_freq_dict = dict(zip(words, word_frequencies))\n",
    "sorted_word_freq = sorted(word_freq_dict.items(), key=lambda x: x[1], reverse=True)[:25]\n",
    "print(word_freq_dict)\n",
    "\n",
    "plt.figure(figsize=(10, 6))\n",
    "plt.barh([x[0] for x in sorted_word_freq], [x[1] for x in sorted_word_freq], color='skyblue')\n",
    "plt.xlabel('Frequency')\n",
    "plt.ylabel('Word')\n",
    "plt.title('Top 20 Most Frequent Words in Reviews')\n",
    "plt.gca().invert_yaxis()\n",
    "plt.show()\n"
   ]
  },
  {
   "cell_type": "code",
   "execution_count": 15,
   "id": "c1814f2f",
   "metadata": {},
   "outputs": [
    {
     "data": {
      "image/png": "[encoded data removed]",
      "text/plain": [
       "<Figure size 576x432 with 1 Axes>"
      ]
     },
     "metadata": {
      "needs_background": "light"
     },
     "output_type": "display_data"
    }
   ],
   "source": [
    "# Analyze the distribution of review lengths\n",
    "review_lengths = movies_review['Review'].apply(lambda x: len(x.split()))\n",
    "plt.figure(figsize=(8, 6))\n",
    "sns.histplot(review_lengths, bins=30, color='purple', edgecolor='black')\n",
    "plt.title('Distribution of Review Lengths')\n",
    "plt.xlabel('Number of Words')\n",
    "plt.ylabel('Count')\n",
    "plt.show()"
   ]
  }
 ],
 "metadata": {
  "kernelspec": {
   "display_name": "Python 3 (ipykernel)",
   "language": "python",
   "name": "python3"
  },
  "language_info": {
   "codemirror_mode": {
    "name": "ipython",
    "version": 3
   },
   "file_extension": ".py",
   "mimetype": "text/x-python",
   "name": "python",
   "nbconvert_exporter": "python",
   "pygments_lexer": "ipython3",
   "version": "3.9.12"
  }
 },
 "nbformat": 4,
 "nbformat_minor": 5
}
